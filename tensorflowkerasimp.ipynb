{
 "cells": [
  {
   "cell_type": "code",
   "execution_count": 1,
   "metadata": {},
   "outputs": [],
   "source": [
    "import tensorflow as tf"
   ]
  },
  {
   "cell_type": "code",
   "execution_count": 2,
   "metadata": {},
   "outputs": [],
   "source": [
    "NUM_WORDS = 10000"
   ]
  },
  {
   "cell_type": "code",
   "execution_count": 3,
   "metadata": {},
   "outputs": [],
   "source": [
    "(X_train, Y_train), (X_val, Y_val) = tf.keras.datasets.reuters.load_data(num_words=NUM_WORDS)"
   ]
  },
  {
   "cell_type": "code",
   "execution_count": 4,
   "metadata": {},
   "outputs": [
    {
     "name": "stdout",
     "output_type": "stream",
     "text": [
      "(8982,)\n",
      "(8982,)\n",
      "(2246,)\n",
      "(2246,)\n"
     ]
    }
   ],
   "source": [
    "print(X_train.shape)\n",
    "print(Y_train.shape)\n",
    "print(X_val.shape)\n",
    "print(Y_val.shape)"
   ]
  },
  {
   "cell_type": "code",
   "execution_count": 5,
   "metadata": {},
   "outputs": [],
   "source": [
    "word_index = tf.keras.datasets.reuters.get_word_index()\n",
    "inverse_index = dict((value, key) for (key, value) in word_index.items())"
   ]
  },
  {
   "cell_type": "code",
   "execution_count": 6,
   "metadata": {},
   "outputs": [
    {
     "data": {
      "text/plain": [
       "'? ? ? said as a ? of its ? ? of ? ? it ? ? per share in 1987 of 1 ? to 1 ? dlrs per share up from ? cts in 1986 the company said ? net ? ? to ? to 10 mln dlrs from ? mln dlrs in 1986 and ? ? ? to ? to ? mln dlrs from ? 5 mln dlrs it said ? ? per share this year ? be 2 ? to ? dlrs reuter 3'"
      ]
     },
     "execution_count": 6,
     "metadata": {},
     "output_type": "execute_result"
    }
   ],
   "source": [
    "\" \".join(inverse_index.get(i-3, \"?\") for i in X_train[0])"
   ]
  },
  {
   "cell_type": "code",
   "execution_count": 7,
   "metadata": {},
   "outputs": [],
   "source": [
    "import numpy as np"
   ]
  },
  {
   "cell_type": "code",
   "execution_count": 8,
   "metadata": {},
   "outputs": [
    {
     "data": {
      "text/plain": [
       "array([[0., 0., 0.],\n",
       "       [0., 0., 0.]])"
      ]
     },
     "execution_count": 8,
     "metadata": {},
     "output_type": "execute_result"
    }
   ],
   "source": [
    "np.zeros((2, 3))"
   ]
  },
  {
   "cell_type": "code",
   "execution_count": 9,
   "metadata": {},
   "outputs": [],
   "source": [
    "def to_one_hot(sentence, max_lenght=NUM_WORDS):\n",
    "    results = np.zeros((len(sentence), max_lenght))\n",
    "    for i, word_index in enumerate(sentence):\n",
    "        results[i][word_index] = 1\n",
    "\n",
    "    return results"
   ]
  },
  {
   "cell_type": "code",
   "execution_count": 10,
   "metadata": {},
   "outputs": [],
   "source": [
    "X_train_one_hot = to_one_hot(X_train, NUM_WORDS)\n",
    "X_val_one_hot = to_one_hot(X_val, NUM_WORDS)"
   ]
  },
  {
   "cell_type": "code",
   "execution_count": 11,
   "metadata": {},
   "outputs": [],
   "source": [
    "Y_train_one_hot = tf.keras.utils.to_categorical(Y_train)\n",
    "Y_val_one_hot = tf.keras.utils.to_categorical(Y_val)"
   ]
  },
  {
   "cell_type": "code",
   "execution_count": 12,
   "metadata": {},
   "outputs": [
    {
     "name": "stdout",
     "output_type": "stream",
     "text": [
      "Metal device set to: Apple M1 Max\n",
      "\n",
      "systemMemory: 64.00 GB\n",
      "maxCacheSize: 24.00 GB\n",
      "\n"
     ]
    },
    {
     "name": "stderr",
     "output_type": "stream",
     "text": [
      "2023-03-30 17:30:54.310947: I tensorflow/core/common_runtime/pluggable_device/pluggable_device_factory.cc:305] Could not identify NUMA node of platform GPU ID 0, defaulting to 0. Your kernel may not have been built with NUMA support.\n",
      "2023-03-30 17:30:54.311067: I tensorflow/core/common_runtime/pluggable_device/pluggable_device_factory.cc:271] Created TensorFlow device (/job:localhost/replica:0/task:0/device:GPU:0 with 0 MB memory) -> physical PluggableDevice (device: 0, name: METAL, pci bus id: <undefined>)\n"
     ]
    }
   ],
   "source": [
    "X_input = tf.keras.layers.Input(shape=(NUM_WORDS,))\n",
    "\n",
    "X = tf.keras.layers.Dense(activation='relu', units=64)(X_input)\n",
    "\n",
    "X_output = tf.keras.layers.Dense(activation='softmax', units=46)(X_input)\n",
    "\n",
    "model = tf.keras.Model(inputs=[X_input], outputs=[X_output])"
   ]
  },
  {
   "cell_type": "code",
   "execution_count": 13,
   "metadata": {},
   "outputs": [],
   "source": [
    "model.compile(loss=tf.keras.losses.CategoricalCrossentropy(), optimizer='rmsprop', metrics=['accuracy'])"
   ]
  },
  {
   "cell_type": "code",
   "execution_count": 14,
   "metadata": {},
   "outputs": [
    {
     "data": {
      "text/plain": [
       "(8982, 100)"
      ]
     },
     "execution_count": 14,
     "metadata": {},
     "output_type": "execute_result"
    }
   ],
   "source": [
    "X_train_one_hot.shape"
   ]
  },
  {
   "cell_type": "code",
   "execution_count": 15,
   "metadata": {},
   "outputs": [
    {
     "data": {
      "text/plain": [
       "(2246, 100)"
      ]
     },
     "execution_count": 15,
     "metadata": {},
     "output_type": "execute_result"
    }
   ],
   "source": [
    "X_val_one_hot.shape"
   ]
  },
  {
   "cell_type": "code",
   "execution_count": 16,
   "metadata": {},
   "outputs": [],
   "source": [
    "EPOCHS = 30"
   ]
  },
  {
   "cell_type": "code",
   "execution_count": 17,
   "metadata": {},
   "outputs": [
    {
     "name": "stdout",
     "output_type": "stream",
     "text": [
      "Epoch 1/30\n"
     ]
    },
    {
     "name": "stderr",
     "output_type": "stream",
     "text": [
      "2023-03-30 17:30:54.568965: W tensorflow/core/platform/profile_utils/cpu_utils.cc:128] Failed to get CPU frequency: 0 Hz\n",
      "2023-03-30 17:30:54.679635: I tensorflow/core/grappler/optimizers/custom_graph_optimizer_registry.cc:113] Plugin optimizer for device_type GPU is enabled.\n"
     ]
    },
    {
     "name": "stdout",
     "output_type": "stream",
     "text": [
      "280/281 [============================>.] - ETA: 0s - loss: 2.3862 - accuracy: 0.4468"
     ]
    },
    {
     "name": "stderr",
     "output_type": "stream",
     "text": [
      "2023-03-30 17:30:57.168839: I tensorflow/core/grappler/optimizers/custom_graph_optimizer_registry.cc:113] Plugin optimizer for device_type GPU is enabled.\n"
     ]
    },
    {
     "name": "stdout",
     "output_type": "stream",
     "text": [
      "281/281 [==============================] - 3s 10ms/step - loss: 2.3860 - accuracy: 0.4466 - val_loss: 1.9397 - val_accuracy: 0.5410\n",
      "Epoch 2/30\n",
      "281/281 [==============================] - 3s 10ms/step - loss: 1.7440 - accuracy: 0.5723 - val_loss: 1.7014 - val_accuracy: 0.5882\n",
      "Epoch 3/30\n",
      "281/281 [==============================] - 3s 10ms/step - loss: 1.5472 - accuracy: 0.6190 - val_loss: 1.5905 - val_accuracy: 0.6229\n",
      "Epoch 4/30\n",
      "281/281 [==============================] - 3s 10ms/step - loss: 1.4358 - accuracy: 0.6483 - val_loss: 1.5339 - val_accuracy: 0.6420\n",
      "Epoch 5/30\n",
      "281/281 [==============================] - 3s 10ms/step - loss: 1.3617 - accuracy: 0.6676 - val_loss: 1.4935 - val_accuracy: 0.6483\n",
      "Epoch 6/30\n",
      "281/281 [==============================] - 3s 11ms/step - loss: 1.3127 - accuracy: 0.6796 - val_loss: 1.4635 - val_accuracy: 0.6634\n",
      "Epoch 7/30\n",
      "281/281 [==============================] - 3s 11ms/step - loss: 1.2730 - accuracy: 0.6907 - val_loss: 1.4465 - val_accuracy: 0.6719\n",
      "Epoch 8/30\n",
      "281/281 [==============================] - 3s 11ms/step - loss: 1.2406 - accuracy: 0.6988 - val_loss: 1.4330 - val_accuracy: 0.6696\n",
      "Epoch 9/30\n",
      "281/281 [==============================] - 3s 11ms/step - loss: 1.2139 - accuracy: 0.7066 - val_loss: 1.4282 - val_accuracy: 0.6736\n",
      "Epoch 10/30\n",
      "281/281 [==============================] - 3s 10ms/step - loss: 1.1970 - accuracy: 0.7109 - val_loss: 1.4228 - val_accuracy: 0.6785\n",
      "Epoch 11/30\n",
      "281/281 [==============================] - 3s 10ms/step - loss: 1.1806 - accuracy: 0.7164 - val_loss: 1.4211 - val_accuracy: 0.6817\n",
      "Epoch 12/30\n",
      "281/281 [==============================] - 3s 10ms/step - loss: 1.1669 - accuracy: 0.7162 - val_loss: 1.4231 - val_accuracy: 0.6776\n",
      "Epoch 13/30\n",
      "281/281 [==============================] - 3s 10ms/step - loss: 1.1549 - accuracy: 0.7213 - val_loss: 1.4245 - val_accuracy: 0.6848\n",
      "Epoch 14/30\n",
      "281/281 [==============================] - 3s 10ms/step - loss: 1.1458 - accuracy: 0.7256 - val_loss: 1.4244 - val_accuracy: 0.6874\n",
      "Epoch 15/30\n",
      "281/281 [==============================] - 3s 10ms/step - loss: 1.1385 - accuracy: 0.7253 - val_loss: 1.4260 - val_accuracy: 0.6883\n",
      "Epoch 16/30\n",
      "281/281 [==============================] - 3s 10ms/step - loss: 1.1282 - accuracy: 0.7293 - val_loss: 1.4289 - val_accuracy: 0.6892\n",
      "Epoch 17/30\n",
      "281/281 [==============================] - 3s 11ms/step - loss: 1.1247 - accuracy: 0.7293 - val_loss: 1.4318 - val_accuracy: 0.6897\n",
      "Epoch 18/30\n",
      "281/281 [==============================] - 3s 11ms/step - loss: 1.1172 - accuracy: 0.7315 - val_loss: 1.4421 - val_accuracy: 0.6870\n",
      "Epoch 19/30\n",
      "281/281 [==============================] - 3s 11ms/step - loss: 1.1152 - accuracy: 0.7336 - val_loss: 1.4408 - val_accuracy: 0.6861\n",
      "Epoch 20/30\n",
      "281/281 [==============================] - 3s 10ms/step - loss: 1.1091 - accuracy: 0.7322 - val_loss: 1.4472 - val_accuracy: 0.6915\n",
      "Epoch 21/30\n",
      "281/281 [==============================] - 3s 11ms/step - loss: 1.1071 - accuracy: 0.7334 - val_loss: 1.4505 - val_accuracy: 0.6910\n",
      "Epoch 22/30\n",
      "281/281 [==============================] - 3s 11ms/step - loss: 1.1026 - accuracy: 0.7349 - val_loss: 1.4567 - val_accuracy: 0.6861\n",
      "Epoch 23/30\n",
      "281/281 [==============================] - 3s 10ms/step - loss: 1.0994 - accuracy: 0.7339 - val_loss: 1.4600 - val_accuracy: 0.6897\n",
      "Epoch 24/30\n",
      "281/281 [==============================] - 3s 10ms/step - loss: 1.0972 - accuracy: 0.7337 - val_loss: 1.4638 - val_accuracy: 0.6874\n",
      "Epoch 25/30\n",
      "281/281 [==============================] - 3s 10ms/step - loss: 1.0935 - accuracy: 0.7384 - val_loss: 1.4683 - val_accuracy: 0.6866\n",
      "Epoch 26/30\n",
      "281/281 [==============================] - 3s 10ms/step - loss: 1.0916 - accuracy: 0.7370 - val_loss: 1.4712 - val_accuracy: 0.6883\n",
      "Epoch 27/30\n",
      "281/281 [==============================] - 3s 10ms/step - loss: 1.0881 - accuracy: 0.7377 - val_loss: 1.4749 - val_accuracy: 0.6870\n",
      "Epoch 28/30\n",
      "281/281 [==============================] - 3s 10ms/step - loss: 1.0856 - accuracy: 0.7375 - val_loss: 1.4806 - val_accuracy: 0.6848\n",
      "Epoch 29/30\n",
      "281/281 [==============================] - 3s 10ms/step - loss: 1.0829 - accuracy: 0.7386 - val_loss: 1.4881 - val_accuracy: 0.6857\n",
      "Epoch 30/30\n",
      "281/281 [==============================] - 3s 10ms/step - loss: 1.0806 - accuracy: 0.7405 - val_loss: 1.4934 - val_accuracy: 0.6870\n"
     ]
    }
   ],
   "source": [
    "history = model.fit(X_train_one_hot, Y_train_one_hot, validation_data=(X_val_one_hot, Y_val_one_hot), epochs=EPOCHS)"
   ]
  },
  {
   "cell_type": "code",
   "execution_count": 18,
   "metadata": {},
   "outputs": [],
   "source": [
    "import matplotlib.pyplot as plt"
   ]
  },
  {
   "cell_type": "code",
   "execution_count": 19,
   "metadata": {},
   "outputs": [],
   "source": [
    "def print_loss_curves(history, EPOCHS):\n",
    "    epochs = range(1, EPOCHS+1)\n",
    "\n",
    "    train_loss = history.history['loss']\n",
    "    val_loss = history.history['val_loss']\n",
    "\n",
    "    plt.plot(epochs, train_loss, \"bo\", label=\"train\")\n",
    "    plt.plot(epochs, val_loss, \"b\", label=\"val\")\n",
    "\n",
    "    plt.xlabel=\"epochs\"\n",
    "\n",
    "    plt.ylabel=\"loss\"\n",
    "\n",
    "    plt.legend()\n",
    "\n",
    "    plt.show()"
   ]
  },
  {
   "cell_type": "code",
   "execution_count": 20,
   "metadata": {},
   "outputs": [
    {
     "data": {
      "image/png": "[encoded data removed]",
      "text/plain": [
       "<Figure size 640x480 with 1 Axes>"
      ]
     },
     "metadata": {},
     "output_type": "display_data"
    }
   ],
   "source": [
    "print_loss_curves(history=history, EPOCHS=EPOCHS)"
   ]
  },
  {
   "attachments": {},
   "cell_type": "markdown",
   "metadata": {},
   "source": [
    "# Baseline\n",
    "\n",
    "For the baseline I will take a random guess and calculate the accuracy.\n",
    "\n",
    "This method consist of choosing a for each sample a random value. This is achieve comparing the validation tags values to the same but shuffle at random."
   ]
  },
  {
   "cell_type": "code",
   "execution_count": 21,
   "metadata": {},
   "outputs": [],
   "source": [
    "# First I need to copy the validation ground thrut values\n",
    "Y_val_copy = Y_val.copy()\n",
    "#Shuffle the labels\n",
    "np.random.shuffle(Y_val_copy)\n",
    "#Calculate the accuray\n",
    "accuracy = (Y_val_copy == Y_val).mean()"
   ]
  },
  {
   "cell_type": "code",
   "execution_count": 22,
   "metadata": {},
   "outputs": [
    {
     "name": "stdout",
     "output_type": "stream",
     "text": [
      "The accuracy of the baseline is:  0.19011576135351738\n"
     ]
    }
   ],
   "source": [
    "print(\"The accuracy of the baseline is: \", accuracy)"
   ]
  },
  {
   "attachments": {},
   "cell_type": "markdown",
   "metadata": {},
   "source": [
    "# Conclution\n",
    "\n",
    "So far the baseline achieves a 19% accuracy meanwhile the model achieves 79.8%\n",
    "\n",
    "## Points so far:\n",
    "- A simple neural network is able to beat the baseline.\n",
    "- We need to be carefull when evaluation a model over train could lead to overfitting\n",
    "- Also we need to avoid informations bottleneck, in this case the output is a 46 dimensions array thus using less than 46 in an intermediate layer could lead to loss of information that could not be recover later on."
   ]
  },
  {
   "attachments": {},
   "cell_type": "markdown",
   "metadata": {},
   "source": [
    "# Experiments\n",
    "\n",
    "## We could try to reduce or increase the\n",
    "- NUM_WORDS\n",
    "- Increase units in each layer\n",
    "- Add more layers\n"
   ]
  }
 ],
 "metadata": {
  "kernelspec": {
   "display_name": "tf_2_9_metal_0_5_keras",
   "language": "python",
   "name": "python3"
  },
  "language_info": {
   "codemirror_mode": {
    "name": "ipython",
    "version": 3
   },
   "file_extension": ".py",
   "mimetype": "text/x-python",
   "name": "python",
   "nbconvert_exporter": "python",
   "pygments_lexer": "ipython3",
   "version": "3.10.8"
  },
  "orig_nbformat": 4
 },
 "nbformat": 4,
 "nbformat_minor": 2
}
